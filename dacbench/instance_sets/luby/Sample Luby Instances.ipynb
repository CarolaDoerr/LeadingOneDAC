{
 "cells": [
  {
   "cell_type": "code",
   "execution_count": 3,
   "id": "03109e11",
   "metadata": {},
   "outputs": [],
   "source": [
    "import numpy as np\n",
    "from scipy.stats import truncnorm"
   ]
  },
  {
   "cell_type": "code",
   "execution_count": 4,
   "id": "c1080846",
   "metadata": {},
   "outputs": [],
   "source": [
    "def save_luby_instances(filename, p1_dist, p2_dist, n_instances=100, sample_length=None, length=3):\n",
    "    with open(filename, 'a') as f:\n",
    "        for i in range(n_instances):\n",
    "            if sample_length:\n",
    "                length = sample_length.rvs()\n",
    "            else:\n",
    "                length = length\n",
    "            inst_string = str(i)+\",\" + str(p1_dist.rvs()) + \",\" + str(p2_dist.rvs()) + f\",{length}\\n\"\n",
    "            f.write(inst_string)"
   ]
  },
  {
   "cell_type": "code",
   "execution_count": 5,
   "id": "f9533fee",
   "metadata": {},
   "outputs": [],
   "source": [
    "start_dist = truncnorm(-0.5, 3.5, 8, 16)\n",
    "sticky_dist = truncnorm(-3.3666667, 3.3666667, 0, 0.15)\n",
    "save_luby_instances(\"new_luby_set.csv\", start_dist, sticky_dist)"
   ]
  },
  {
   "cell_type": "code",
   "execution_count": null,
   "id": "2d2992e5",
   "metadata": {},
   "outputs": [],
   "source": []
  }
 ],
 "metadata": {
  "kernelspec": {
   "display_name": "Python (dacbench)",
   "language": "python",
   "name": "dacbench"
  },
  "language_info": {
   "codemirror_mode": {
    "name": "ipython",
    "version": 3
   },
   "file_extension": ".py",
   "mimetype": "text/x-python",
   "name": "python",
   "nbconvert_exporter": "python",
   "pygments_lexer": "ipython3",
   "version": "3.6.12"
  }
 },
 "nbformat": 4,
 "nbformat_minor": 5
}
