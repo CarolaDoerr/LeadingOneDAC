{
 "cells": [
  {
   "cell_type": "code",
   "execution_count": 3,
   "id": "766ad99e",
   "metadata": {},
   "outputs": [],
   "source": [
    "import numpy as np\n",
    "from scipy.stats import truncnorm"
   ]
  },
  {
   "cell_type": "code",
   "execution_count": 5,
   "id": "b4e44e9f",
   "metadata": {},
   "outputs": [],
   "source": [
    "def save_sigmoid_instances(filename, p1_dist, p2_dist, n_actions=2, n_instances=100):\n",
    "    with open(filename, 'a') as f:\n",
    "        for i in range(n_instances):\n",
    "            inst_string = str(i)+\",\"\n",
    "            for j in range(n_actions*2):\n",
    "                if j < n_actions:\n",
    "                    inst_string += str(p1_dist.rvs()) + \",\"\n",
    "                else:\n",
    "                    inst_string += str(p2_dist.rvs()) + \",\"\n",
    "            f.write(inst_string[:-1]+\"\\n\")"
   ]
  },
  {
   "cell_type": "code",
   "execution_count": 6,
   "id": "65a28a95",
   "metadata": {},
   "outputs": [],
   "source": [
    "shift_dist = truncnorm(-5, 5, 4, 2)\n",
    "slope_dist = truncnorm(-5, 5, 2, 4)\n",
    "save_sigmoid_instances(\"new_sigmoid_set.csv\", shift_dist, slope_dist)"
   ]
  },
  {
   "cell_type": "code",
   "execution_count": null,
   "id": "82490d18",
   "metadata": {},
   "outputs": [],
   "source": []
  }
 ],
 "metadata": {
  "kernelspec": {
   "display_name": "Python (dacbench)",
   "language": "python",
   "name": "dacbench"
  },
  "language_info": {
   "codemirror_mode": {
    "name": "ipython",
    "version": 3
   },
   "file_extension": ".py",
   "mimetype": "text/x-python",
   "name": "python",
   "nbconvert_exporter": "python",
   "pygments_lexer": "ipython3",
   "version": "3.6.12"
  }
 },
 "nbformat": 4,
 "nbformat_minor": 5
}
