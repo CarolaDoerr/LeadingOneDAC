{
 "cells": [
  {
   "cell_type": "code",
   "execution_count": 1,
   "id": "bc85e2b5",
   "metadata": {},
   "outputs": [],
   "source": [
    "import numpy as np"
   ]
  },
  {
   "cell_type": "code",
   "execution_count": 2,
   "id": "bf877646",
   "metadata": {},
   "outputs": [],
   "source": [
    "def save_modea_instances(filename, n_instances=100, dim=10, fcn_ids=[12, 11, 2, 23, 15, 8, 17, 20, 1, 16], fcn_names = [\"BentCigar\", \"Discus\", \"Ellipsoid\", \"Katsuura\", \"Rastrigin\", \"Rosenbrock\", \"Schaffers\", \"Schwefel\", \"Sphere\", \"Weierstrass\"]):\n",
    "    init_locs = list(np.random.randn(n_instances, dim)) \n",
    "    init_sigmas = list(np.random.rand(n_instances))\n",
    "    \n",
    "    with open(filename, 'a') as f:\n",
    "        id_string=\"ID,dim,fcn_name,fcn_index,init_sigma,init_loc0,init_loc1,init_loc2,init_loc3,init_loc4,init_loc5,init_loc6,init_loc7,init_loc8,init_loc9\\n\"\n",
    "        f.write(id_string)\n",
    "        for i in range(n_instances):\n",
    "            inst_string = f\"{i},10,{fcn_names[i%10]},{fcn_ids[i%10]},{init_sigmas[i]}\"\n",
    "            for j in range(dim):\n",
    "                inst_string += f\",{init_locs[i][j]}\"\n",
    "            inst_string += \"\\n\"\n",
    "            f.write(inst_string)"
   ]
  },
  {
   "cell_type": "code",
   "execution_count": 4,
   "id": "c6390947",
   "metadata": {},
   "outputs": [],
   "source": [
    "save_modea_instances(\"new_modea_set.csv\")"
   ]
  },
  {
   "cell_type": "code",
   "execution_count": null,
   "id": "7917eb80",
   "metadata": {},
   "outputs": [],
   "source": []
  }
 ],
 "metadata": {
  "kernelspec": {
   "display_name": "Python (dacbench)",
   "language": "python",
   "name": "dacbench"
  },
  "language_info": {
   "codemirror_mode": {
    "name": "ipython",
    "version": 3
   },
   "file_extension": ".py",
   "mimetype": "text/x-python",
   "name": "python",
   "nbconvert_exporter": "python",
   "pygments_lexer": "ipython3",
   "version": "3.6.12"
  }
 },
 "nbformat": 4,
 "nbformat_minor": 5
}
